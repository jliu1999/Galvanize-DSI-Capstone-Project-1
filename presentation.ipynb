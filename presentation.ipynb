{
 "cells": [
  {
   "cell_type": "markdown",
   "metadata": {},
   "source": [
    "![](images/GH.jpg)\n",
    "\n",
    "\n",
    "# <center><ins> Life Expectancy and Healthcare </ins></center>"
   ]
  },
  {
   "cell_type": "markdown",
   "metadata": {},
   "source": [
    "## Overview\n",
    "\n",
    "**Global Health** is always a public topic at the center. Many attributes are related to **Global Health**. Among them, **Life Expectancy** is a very important one. WHO has published the complete **2020 World Health Statistics**. My project will focus on the **Life Expectancy** and some selected attributes within the **Healthcare category**, such as **Healthcare Coverage**, **Healthcare Workforce**. The objective of this project is to find out possible links between **Life Expectancy** and **Healthcare**."
   ]
  },
  {
   "cell_type": "markdown",
   "metadata": {},
   "source": [
    "<br><br>\n",
    "\n",
    "## The Data\n",
    "\n",
    "\n",
    "### Data Source:\n",
    "\n",
    "[https://www.kaggle.com/utkarshxy/who-worldhealth-statistics-2020-complete](https://www.kaggle.com/utkarshxy/who-worldhealth-statistics-2020-complete)\n",
    "\n",
    "\n",
    "### About the Data:\n",
    "\n",
    "This dataset covers the most recent and updated global health statistics by WHO. It is a set of 39 files, each corresponding to a specific aspect of the health statistics. For my analysis purpose, I choose from them 8 datasets relating to **Life Expectancy** and **Healthcare**:\n",
    "\n",
    "* Life expectancy at birth, country wise by years\n",
    "* Universal healthcare coverage\n",
    "* Percentage of population with household expenditures on healthcare greater than 10% of total household income\n",
    "* Percentage of population with household expenditures on healthcare greater than 25% of total household income\n",
    "* Medical doctors per 10,000 population.\n",
    "* Nurses per 10,000 population.\n",
    "* Dentists per 10,000 population\n",
    "* Pharmacists per 10,000 population\n",
    "\n",
    "A brief exploration showed that the yearly statistics are not available for many of the years. All these datasets have only **2015** in common. **2015** is not far from now, so all data for this year are selected for further analysis.\n",
    "\n"
   ]
  },
  {
   "cell_type": "markdown",
   "metadata": {},
   "source": [
    "### First glance at the data:\n",
    "\n",
    "![](images/le.png)\n"
   ]
  },
  {
   "cell_type": "markdown",
   "metadata": {},
   "source": [
    "![](images/boxplot.png)\n",
    "\n"
   ]
  },
  {
   "cell_type": "markdown",
   "metadata": {},
   "source": [
    "### How badly could a single outlier affect the result?\n",
    "\n",
    "![](images/bad.jpg)\n"
   ]
  },
  {
   "cell_type": "markdown",
   "metadata": {},
   "source": [
    "### Second glance at the data:\n",
    "\n",
    "![](images/boxplot_new.png)\n"
   ]
  },
  {
   "cell_type": "markdown",
   "metadata": {},
   "source": [
    "### Third glance at the data:\n",
    "\n",
    "![](images/good.jpg)\n",
    "\n",
    "![](images/heatmap.png)\n",
    "\n",
    "![](images/scatter_matrix.png)\n"
   ]
  },
  {
   "cell_type": "markdown",
   "metadata": {},
   "source": [
    "## Hypothesis Testing\n",
    "\n",
    "\n",
    "### Shapiro-Wilk Normality Test:\n",
    "\n",
    "The above correlation matrix is calculated using the Pandas default Pearson's method which assumes the variables are normally distributed. To validate this calculation, it is necessary to test if the various features in the dataframe are normally distributed.\n",
    "\n",
    "* **H0: the sample is normally distributed.**\n",
    "* **H1: the sample is not normally distributed.**\n",
    "* **Threshold $\\alpha$: 0.05**"
   ]
  },
  {
   "cell_type": "markdown",
   "metadata": {},
   "source": [
    "\n",
    "![](images/normality.jpg)\n"
   ]
  },
  {
   "cell_type": "markdown",
   "metadata": {},
   "source": [
    "### Spearman Correlation Tests:\n",
    "\n",
    "* **H0: the two samples do not have any correlation.**\n",
    "* **H1: the two samples are correlated.**\n",
    "* **Threshold $\\alpha$: 0.05**\n",
    "\n",
    "Since we don't know if the samples are positively correlated or negativelly correlated, so it is a two-sided test.\n",
    "\n"
   ]
  },
  {
   "cell_type": "markdown",
   "metadata": {},
   "source": [
    "Feature Pair | Correlation Coefficient | p-Value\n",
    "------------ | ------------- | -------------\n",
    "LifeExpectancy / uhcCoverage | 0.883 | 0.0\n",
    "LifeExpectancy / Pharmacists | 0.757 | 0.0\n",
    "LifeExpectancy / Nurses | 0.732 | 0.0\n",
    "LifeExpectancy / Doctors | 0.722 | 0.0\n",
    "LifeExpectancy / Dentists | 0.672 | 0.0\n",
    "LifeExpectancy / HHExpdt10 | 0.302 | 0.161\n",
    "LifeExpectancy / HHExpdt25 | 0.085 | 0.701\n"
   ]
  },
  {
   "cell_type": "markdown",
   "metadata": {},
   "source": [
    "### The 95% confidence intervals by formula:\n",
    "\n",
    "Formula for calculating the 95% confidence interval:\n",
    "<br>\n",
    "\n",
    "### <B><center>$\\tanh(\\operatorname{arctanh}r\\pm1.96/\\sqrt{n-3})$</center></B>\n",
    "\n",
    "![](images/formula.jpg)\n",
    "\n",
    "Reference: \n",
    "[https://stats.stackexchange.com/questions/18887/how-to-calculate-a-confidence-interval-for-spearmans-rank-correlation](https://stats.stackexchange.com/questions/18887/how-to-calculate-a-confidence-interval-for-spearmans-rank-correlation)\n",
    "\n"
   ]
  },
  {
   "cell_type": "markdown",
   "metadata": {},
   "source": [
    "<br>\n",
    "\n",
    "Feature Pair | Correlation Coefficient | p-Value | Confidence Interval\n",
    "------------ | ------------- | ------------- | -------------\n",
    "LifeExpectancy / uhcCoverage | 0.883 | 0.0 | (0.846, 0.911)\n",
    "LifeExpectancy / Pharmacists | 0.757 | 0.0 | (0.644, 0.838)\n",
    "LifeExpectancy / Nurses | 0.732 | 0.0 | (0.639, 0.804)\n",
    "LifeExpectancy / Doctors | 0.722 | 0.0 | (0.614, 0.804)\n",
    "LifeExpectancy / Dentists | 0.672 | 0.0 | (0.535, 0.775)\n",
    "LifeExpectancy / HHExpdt10 | 0.302 | 0.161 | (-0.126, 0.635)\n",
    "LifeExpectancy / HHExpdt25 | 0.085 | 0.701 | (-0.339, 0.48)\n"
   ]
  },
  {
   "cell_type": "markdown",
   "metadata": {},
   "source": [
    "### The 95% confidence intervals by bootstrapping:\n",
    "\n",
    "**Skylar English: \"The Bootstrap is a tool to quantify the variation in a statistical estimate. It can be used in almost any situation.\"**\n"
   ]
  },
  {
   "cell_type": "markdown",
   "metadata": {},
   "source": [
    "\n",
    "![](images/bootstrap.png)"
   ]
  },
  {
   "cell_type": "markdown",
   "metadata": {},
   "source": [
    "\n",
    "Feature Pair | Correlation Coefficient | p_value | Confidence Interval | Bootstrapping CI\n",
    "------------ | ------------- | ------------- | ------------- | -------------\n",
    "LifeExpectancy / uhcCoverage | 0.883 | 0.0 | (0.846, 0.911) | (0.838, 0.914)\n",
    "LifeExpectancy / Pharmacists | 0.757 | 0.0 | (0.644, 0.838) | (0.640, 0.835)\n",
    "LifeExpectancy / Nurses | 0.732 | 0.0 | (0.639, 0.804) | (0.627, 0.812)\n",
    "LifeExpectancy / Doctors | 0.722 | 0.0 | (0.614, 0.804) | (0.581, 0.824)\n",
    "LifeExpectancy / Dentists | 0.672 | 0.0 | (0.535, 0.775) | (0.515, 0.786)\n",
    "LifeExpectancy / HHExpdt10 | 0.302 | 0.161 | (-0.126, 0.635) | (-0.164, 0.718)\n",
    "LifeExpectancy / HHExpdt25 | 0.085 | 0.701 | (-0.339, 0.48) | (-0.405, 0.543)\n"
   ]
  },
  {
   "cell_type": "markdown",
   "metadata": {},
   "source": [
    "### Some more illustrative figures:\n",
    "\n",
    "\n",
    "![](images/heatmap_update.png)\n",
    "\n",
    "\n",
    "![](images/corr_ci.png)\n"
   ]
  },
  {
   "cell_type": "markdown",
   "metadata": {},
   "source": [
    "### Fitting the data points of the most correlated feature pairs, Life Expectancy and Universal Healthcare Coverage:\n",
    "\n",
    "\n",
    "![](images/scatter_fit.png)\n",
    "\n"
   ]
  },
  {
   "cell_type": "markdown",
   "metadata": {},
   "source": [
    "## Future plan\n",
    "\n",
    "**From the Spearman Correlation Testing, we can see Life Expectancy is mostly correlated to Universal Healthcare Coverage, and to Healthcare Workforce at a lesser degree. A question is: Is it really that the correlation between Life Expectancy and Universal Healthcare Coverage is stronger than the others? I may try out some other testing.**"
   ]
  },
  {
   "cell_type": "markdown",
   "metadata": {},
   "source": [
    "## Conclusion\n",
    "\n",
    "### The Life Expectancy is strongly correlated to the Universal Healthcare Coverage and Healthcare Workforce. It is not correlated to the percentage of household income spent on healthcare."
   ]
  },
  {
   "cell_type": "markdown",
   "metadata": {},
   "source": [
    "<br>\n",
    "\n",
    "## Thank you!"
   ]
  }
 ],
 "metadata": {
  "kernelspec": {
   "display_name": "Python 3",
   "language": "python",
   "name": "python3"
  },
  "language_info": {
   "codemirror_mode": {
    "name": "ipython",
    "version": 3
   },
   "file_extension": ".py",
   "mimetype": "text/x-python",
   "name": "python",
   "nbconvert_exporter": "python",
   "pygments_lexer": "ipython3",
   "version": "3.9.1"
  }
 },
 "nbformat": 4,
 "nbformat_minor": 4
}
