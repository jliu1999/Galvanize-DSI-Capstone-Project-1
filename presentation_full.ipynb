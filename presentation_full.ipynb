{
 "cells": [
  {
   "cell_type": "markdown",
   "metadata": {},
   "source": [
    "![](images/GH.jpg)\n",
    "\n",
    "\n",
    "# <center><ins> Life Expectancy and Healthcare </ins></center>"
   ]
  },
  {
   "cell_type": "markdown",
   "metadata": {},
   "source": [
    "## Overview\n",
    "\n",
    "**Global Health** is always a public topic at the center. Many aspects are related to **Global Health**. Among them, **Life Expectancy** is a very important measure. WHO has published the complete **2020 World Health Statistics**. My project will focus on the **Life Expectancy** and some selected attributes within the **Healthcare category**, such as **Healthcare Coverage**, **Healthcare Workforce**. I will try to find out possible links between **Life Expectancy** and **Healthcare**."
   ]
  },
  {
   "cell_type": "markdown",
   "metadata": {},
   "source": [
    "<br><br>\n",
    "\n",
    "## The Data\n",
    "\n",
    "\n",
    "### Data Source:\n",
    "\n",
    "[https://www.kaggle.com/utkarshxy/who-worldhealth-statistics-2020-complete](https://www.kaggle.com/utkarshxy/who-worldhealth-statistics-2020-complete)\n",
    "\n",
    "\n",
    "### About the Data:\n",
    "\n",
    "This dataset covers the most recent and updated global health statistics by WHO. It is a set of 39 files, each corresponding to a specific aspect of the health statistics. For my analysis purpose, I choose from them 8 datasets relating to **Life Expectancy** and **Healthcare**:\n",
    "\n",
    "* Life expectancy at birth, country wise by years\n",
    "* Universal healthcare coverage\n",
    "* Percentage of population with household expenditures on healthcare greater than 10% of total household income\n",
    "* Percentage of population with household expenditures on healthcare greater than 25% of total household income\n",
    "* Medical doctors per 10,000 population.\n",
    "* Nurses per 10,000 population.\n",
    "* Dentists per 10,000 population\n",
    "* Pharmacists per 10,000 population\n",
    "\n",
    "A brief exploration showed that the yearly statistics are not available for many of the years. All these datasets have only **2015** in common. **2015** is not far from now, so all data for this year are selected for further analysis.\n",
    "\n"
   ]
  },
  {
   "cell_type": "markdown",
   "metadata": {},
   "source": [
    "### First glance at the data:\n",
    "\n",
    "![](images/le.png)\n",
    "\n",
    "\n",
    "This picture shows the top and bottom 20 Countries on Life Expectancy. Unfortunately USA is not among the top 20."
   ]
  },
  {
   "cell_type": "markdown",
   "metadata": {},
   "source": [
    "![](images/boxplot.png)\n",
    "\n",
    "This figure is a boxplot for all the features I selected. In order to put all the values in more or less the same scale, I normalized each feature by dividing the values in each column by the mean of that column. This figure looks strange. That is because there is an outlier for the Nurses column, its value is more than 30 times the average. I checked，it is for the country Belize, there are 1744 nurses in 10,000 population, while other countries have around 100. This is an obvious outlier probably due to data recording mistake. This boxplot is really a handy tool to find out if you have any outliers in your data."
   ]
  },
  {
   "cell_type": "markdown",
   "metadata": {},
   "source": [
    "### How badly could a single outlier affect the result?\n",
    "\n",
    "![](images/bad.jpg)\n",
    "\n",
    "Look at the correlation coefficients calculated with Pandas corr() method. The result for Nurses shows that Life Expectancy is poorly correlated to nurse numbers, in contrast to being strongly correlated to doctor and pharmacist numbers. This sounds unreasonable. Later we will see the real correlation after removing this single outlier."
   ]
  },
  {
   "cell_type": "markdown",
   "metadata": {},
   "source": [
    "### Second glance at the data:\n",
    "\n",
    "![](images/boxplot_new.png)\n",
    "\n",
    "After removing this single outlier, now the boxplot looks reasonable. It shows that Life Expectancy and Universal Healthcare Coverage have narrow data range, others are more diversified. Some of them have several outliers, but not so extreme. I will keep them."
   ]
  },
  {
   "cell_type": "markdown",
   "metadata": {},
   "source": [
    "### Third glance at the data:\n",
    "\n",
    "![](images/good.jpg)\n",
    "\n",
    "Now the correlations are similar for doctor, nurse, dentist and pharmacist numbers. The following two figures are seaborn correlation heatmap and pandas scatter matrix plot.\n",
    "\n",
    "![](images/heatmap.png)\n",
    "\n",
    "![](images/scatter_matrix.png)\n"
   ]
  },
  {
   "cell_type": "markdown",
   "metadata": {},
   "source": [
    "## Hypothesis Testing\n",
    "\n",
    "\n",
    "### Shapiro-Wilk Normality Test:\n",
    "\n",
    "The above correlation matrix is calculated using the Pandas default Pearson's method which assumes the variables are normally distributed. To validate this calculation, it is necessary to test if the various features in the dataframe are normally distributed.\n",
    "\n",
    "* **H0: the sample is normally distributed.**\n",
    "* **H1: the sample is not normally distributed.**\n",
    "* **Threshold $\\alpha$: 0.05**"
   ]
  },
  {
   "cell_type": "markdown",
   "metadata": {},
   "source": [
    "Codes for the tesing:\n",
    "\n",
    "```Python\n",
    "def test_normality(data):\n",
    "    for col in data.columns[1:]:\n",
    "        stat, p = stats.shapiro(data[col].dropna())\n",
    "        print('For {0}, stat={1:.3f}, p={2:.3f}'.format(col, stat, p))\n",
    "        if p > 0.05:\n",
    "            print(f'{col} is probably normally distributed.\\n')\n",
    "        else:\n",
    "            print(f'{col} is probably not normally distributed.\\n')\n",
    "            \n",
    "test_normality(df)\n",
    "```\n",
    "</center>\n",
    "\n",
    "![](images/normality.jpg)\n",
    "\n",
    "The p-values are all smaller than the threshold, we should reject the null hypothesis, so none of the samples is normally distributed.\n"
   ]
  },
  {
   "cell_type": "markdown",
   "metadata": {},
   "source": [
    "### Spearman Correlation Tests:\n",
    "\n",
    "The Spearman's rank correlation coefficient test is often used to establish whether two variables may be regarded as statistically dependent. Unlike the Pearson's Correlation test which assumes the random variables are normally distributed, the Spearman's test does not rely on any assumptions on the distributions of the variables, namely this test is **non-parametric**.\n",
    "\n",
    "Spearman's test is based on the following assumptions:\n",
    "\n",
    "* **Observations in each sample are independent and distributed identically.**\n",
    "* **Observations in each sample are ranked.**\n",
    "\n",
    "The hypotheses are:\n",
    "\n",
    "* **H0: the two samples do not have any correlation.**\n",
    "* **H1: the two samples are correlated.**\n",
    "* **Threshold $\\alpha$: 0.05**\n",
    "\n",
    "Since we don't know if the samples are positively correlated or negativelly correlated, so it is a two-sided test.\n",
    "\n",
    "The codes for the testing is simple:\n",
    "```Python\n",
    "corr_, p_value = stats.spearmanr(df.iloc[:,1:], nan_policy='omit')\n",
    "corr_ = corr_.round(decimals=3)\n",
    "p_value = p_value.round(decimals=3)\n",
    "\n",
    "```\n"
   ]
  },
  {
   "cell_type": "markdown",
   "metadata": {},
   "source": [
    "**Here is the summary table showing the correlation between features: I listed only those related to Life Expectancy**\n",
    "\n",
    "Feature Pair | Correlation Coefficient | p-Value\n",
    "------------ | ------------- | -------------\n",
    "LifeExpectancy / uhcCoverage | 0.883 | 0.0\n",
    "LifeExpectancy / Pharmacists | 0.757 | 0.0\n",
    "LifeExpectancy / Nurses | 0.732 | 0.0\n",
    "LifeExpectancy / Doctors | 0.722 | 0.0\n",
    "LifeExpectancy / Dentists | 0.672 | 0.0\n",
    "LifeExpectancy / HHExpdt10 | 0.302 | 0.161\n",
    "LifeExpectancy / HHExpdt25 | 0.085 | 0.701\n",
    "\n",
    "You can see the Life Expectancy is most correlated to the Universal Healthcare Coverage, which is not surprising. It also strongly correlated to Healthcare Workforce, like doctor, nurse and pharmacist numbers. It's interesting to see that it is correlated to dentist numbers to a lesser degree. On the contrary, it is not correlated to percentage of household income spent on the healthcare, which I think is explainable. The percentage of household income is just a percentage, it's not reflecting the total amount of money spent on healthcare. Should we have the data of total cost, we might be able to find some correlation.\n"
   ]
  },
  {
   "cell_type": "markdown",
   "metadata": {},
   "source": [
    "### The 95% confidence intervals by formula:\n",
    "\n",
    "**Spearman Test is testing on non-parametric distributions, which means we don't have parameters for this kind of distribution, so we also don't have pdf() or ppf() to calculate the confidence interval.** \n",
    "\n",
    "I found from the following resource the formula to calculate the 95% confidence interval:\n",
    "<br>\n",
    "\n",
    "### <B><center>$\\tanh(\\operatorname{arctanh}r\\pm1.96/\\sqrt{n-3})$</center></B>\n",
    "\n",
    "\n",
    "Reference: \n",
    "[https://stats.stackexchange.com/questions/18887/how-to-calculate-a-confidence-interval-for-spearmans-rank-correlation](https://stats.stackexchange.com/questions/18887/how-to-calculate-a-confidence-interval-for-spearmans-rank-correlation)\n",
    "\n"
   ]
  },
  {
   "cell_type": "markdown",
   "metadata": {},
   "source": [
    "Here is the code for calculation:\n",
    "\n",
    "```Python\n",
    "# make a list of the labels of all relevent columns\n",
    "col = df.columns[1:]\n",
    "\n",
    "# define a function to take in the correlation coefficients array from the Spearman's Test, \n",
    "# and return a dictionary of the confidence intervals for each coefficient\n",
    "def spearman_ci(data):\n",
    "    dict_ = {}\n",
    "    for i in range(len(data)):\n",
    "        for j in range(i+1,len(data)):\n",
    "            num = len(df[[col[i],col[j]]].dropna())\n",
    "            stderr = 1.0 / math.sqrt(num - 3)\n",
    "            delta = 1.96 * stderr\n",
    "            r = data[i][j]\n",
    "            lower = round(math.tanh(math.atanh(r) - delta), 3)\n",
    "            upper = round(math.tanh(math.atanh(r) + delta), 3)\n",
    "            dict_[f'{col[i]} / {col[j]}'] = (lower,upper)\n",
    "    return dict_\n",
    "    \n",
    "ci = spearman_ci(corr_)\n",
    "```"
   ]
  },
  {
   "cell_type": "markdown",
   "metadata": {},
   "source": [
    "<br>\n",
    "\n",
    "**This is the updated table with confidence interval: looks reasonable**\n",
    "\n",
    "Feature Pair | Correlation Coefficient | p-Value | Confidence Interval\n",
    "------------ | ------------- | ------------- | -------------\n",
    "LifeExpectancy / uhcCoverage | 0.883 | 0.0 | (0.846, 0.911)\n",
    "LifeExpectancy / Pharmacists | 0.757 | 0.0 | (0.644, 0.838)\n",
    "LifeExpectancy / Nurses | 0.732 | 0.0 | (0.639, 0.804)\n",
    "LifeExpectancy / Doctors | 0.722 | 0.0 | (0.614, 0.804)\n",
    "LifeExpectancy / Dentists | 0.672 | 0.0 | (0.535, 0.775)\n",
    "LifeExpectancy / HHExpdt10 | 0.302 | 0.161 | (-0.126, 0.635)\n",
    "LifeExpectancy / HHExpdt25 | 0.085 | 0.701 | (-0.339, 0.48)\n"
   ]
  },
  {
   "cell_type": "markdown",
   "metadata": {},
   "source": [
    "### The 95% confidence intervals by bootstrapping:\n",
    "\n",
    "**Skylar English: \"The Bootstrap is a tool to quantify the variation in a statistical estimate. It can be used in almost any situation.\"**\n",
    "\n",
    "Inspired by Skylar's words, I wrote some codes, using the bootstrap sampling technique to calculate the confidence intervals for my test:\n",
    "\n",
    "```Python\n",
    "df_le_uhc = df[['LifeExpectancy','uhcCoverage']]\n",
    "\n",
    "corr_test, p_test = stats.spearmanr(df_le_uhc.iloc[:, 0], df_le_uhc.iloc[:, 1])\n",
    "\n",
    "np.random.seed(1)\n",
    "bootstrap = []\n",
    "for i in range(10000):\n",
    "    # Have to bootstrap pairwisely, so I randomly sample the indices of the dataframe, \n",
    "    # which will in turn select the dataframe by indices\n",
    "    boot = df_le_uhc.iloc[np.random.choice(df_le_uhc.shape[0], size=df_le_uhc.shape[0], replace=True)]\n",
    "    corr_le_uhc, p_value = stats.spearmanr(boot)\n",
    "    bootstrap.append(corr_le_uhc)\n",
    "    \n",
    "left = np.percentile(bootstrap, 2.5)\n",
    "right = np.percentile(bootstrap, 97.5)\n",
    "\n",
    "print(\"The correlation is: {:.3f}\".format(stats.spearmanr(df_le_uhc.iloc[:, 0], df_le_uhc.iloc[:, 1])[0]))\n",
    "print(f\"Bootstrap Confidence Interval for Correlation: {left:.3f}, {right:.3f}\")\n",
    "\n",
    "fig, ax = plt.subplots(1, figsize=(12, 5))\n",
    "ax.hist(bootstrap, bins=50, density=True, alpha=0.5)\n",
    "ax.axvline(stats.spearmanr(df_le_uhc.iloc[:, 0], df_le_uhc.iloc[:, 1])[0], color='r')\n",
    "ax.axvline(left, color='g')\n",
    "ax.axvline(right, color='g')\n",
    "ax.set_title(\"Confidence Interval by Bootstraping\", fontsize=20)\n",
    "ax.tick_params(axis='both', which='major', labelsize=15)\n",
    "plt.tight_layout()\n",
    "plt.savefig('images/bootstrap.png')\n",
    "\n",
    "```"
   ]
  },
  {
   "cell_type": "markdown",
   "metadata": {},
   "source": [
    "Here is a figure showing the simulation and confidence interval of correlation between Life Expectancy and Universal Healthcare Coverage :\n",
    "\n",
    "![](images/bootstrap.png)"
   ]
  },
  {
   "cell_type": "markdown",
   "metadata": {},
   "source": [
    "**Update the table again with the bootstrapping confidence intervals, we can see the confidence intervals calculated with two different methods are comparable.**\n",
    "\n",
    "Feature Pair | Correlation Coefficient | p_value | Confidence Interval | Bootstrapping CI\n",
    "------------ | ------------- | ------------- | ------------- | -------------\n",
    "LifeExpectancy / uhcCoverage | 0.883 | 0.0 | (0.846, 0.911) | (0.838, 0.914)\n",
    "LifeExpectancy / Pharmacists | 0.757 | 0.0 | (0.644, 0.838) | (0.640, 0.835)\n",
    "LifeExpectancy / Nurses | 0.732 | 0.0 | (0.639, 0.804) | (0.627, 0.812)\n",
    "LifeExpectancy / Doctors | 0.722 | 0.0 | (0.614, 0.804) | (0.581, 0.824)\n",
    "LifeExpectancy / Dentists | 0.672 | 0.0 | (0.535, 0.775) | (0.515, 0.786)\n",
    "LifeExpectancy / HHExpdt10 | 0.302 | 0.161 | (-0.126, 0.635) | (-0.164, 0.718)\n",
    "LifeExpectancy / HHExpdt25 | 0.085 | 0.701 | (-0.339, 0.48) | (-0.405, 0.543)\n"
   ]
  },
  {
   "cell_type": "markdown",
   "metadata": {},
   "source": [
    "### Some more illustrative figures:\n",
    "\n",
    "\n",
    "**This is the correlation heatmap calculated using Spearman's method.**\n",
    "![](images/heatmap_update.png)\n",
    "\n",
    "\n",
    "**Below is the errorbar plot, showing the correlation and its confidence interval.**\n",
    "![](images/corr_ci.png)\n",
    "\n",
    "It's generally accepted that, if the correlation coefficient is greater than 0.7, the two samples are strongly correlated. In this figure, the red hexagons to the right of the green line represent strong correlations. You can also see, generally speaking, the higher the correlation, the narrower the confidence interval is. And of course, the confidence interval is also depending on the sample size.\n"
   ]
  },
  {
   "cell_type": "markdown",
   "metadata": {},
   "source": [
    "### Fitting the data points of the most correlated feature pairs, Life Expectancy and Universal Healthcare Coverage:\n",
    "\n",
    "\n",
    "![](images/scatter_fit.png)\n",
    "\n",
    "The scatter plot with the fitted line, shows a clear positive correlation. At this point, I am not sure if it is the best fit using the first degree polynomial model. But I am pretty sure we will learn more about this in the coming weeks."
   ]
  },
  {
   "cell_type": "markdown",
   "metadata": {},
   "source": [
    "## Future plan\n",
    "\n",
    "**From the Spearman Correlation Testing, we can see Life Expectancy is mostly correlated to Universal Healthcare Coverage, and to Healthcare Workforce at a lesser degree. A question is: Is it really that the correlation between Life Expectancy and Universal Healthcare Coverage stronger than the others? I may try out the AB testing.**"
   ]
  },
  {
   "cell_type": "markdown",
   "metadata": {},
   "source": [
    "## Conclusion\n",
    "\n",
    "### The Life Expectancy is strongly correlated to the Universal Healthcare Coverage and Healthcare Workforce. It is not correlated to the percentage of household income spent on healthcare."
   ]
  },
  {
   "cell_type": "code",
   "execution_count": null,
   "metadata": {},
   "outputs": [],
   "source": []
  }
 ],
 "metadata": {
  "kernelspec": {
   "display_name": "Python 3",
   "language": "python",
   "name": "python3"
  },
  "language_info": {
   "codemirror_mode": {
    "name": "ipython",
    "version": 3
   },
   "file_extension": ".py",
   "mimetype": "text/x-python",
   "name": "python",
   "nbconvert_exporter": "python",
   "pygments_lexer": "ipython3",
   "version": "3.9.1"
  }
 },
 "nbformat": 4,
 "nbformat_minor": 4
}
