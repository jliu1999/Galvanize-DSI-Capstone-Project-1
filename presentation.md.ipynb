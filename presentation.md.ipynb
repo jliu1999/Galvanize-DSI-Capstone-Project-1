{
 "cells": [
  {
   "cell_type": "markdown",
   "metadata": {},
   "source": [
    "![](images/GH.jpg)\n",
    "\n",
    "\n",
    "# <center> Life Expectance and Healthcare </center>"
   ]
  },
  {
   "cell_type": "markdown",
   "metadata": {},
   "source": [
    "## Overview\n",
    "\n",
    "**Gloabl Health** is always a public topic at the center. Many aspects are related to **Global Health**. Among them, **Life Expectancy** is a very important measure. WHO has published the complete **2020 World Health Statistics**. My project will focus on the **Life Expectancy** and some selected attributes within the **Healthcare category**, such as **Healthcare Coverage**, **Healthcare Workforce*. I will try to find out possible links between **Life Expectancy** and **Healthcare**."
   ]
  },
  {
   "cell_type": "markdown",
   "metadata": {},
   "source": [
    "<br><br>\n",
    "\n",
    "## The Data\n",
    "\n",
    "\n",
    "### Data Source:\n",
    "    [kaggle](https://www.kaggle.com/utkarshxy/who-worldhealth-statistics-2020-complete)\n",
    "    \n"
   ]
  },
  {
   "cell_type": "code",
   "execution_count": null,
   "metadata": {},
   "outputs": [],
   "source": []
  }
 ],
 "metadata": {
  "kernelspec": {
   "display_name": "Python 3",
   "language": "python",
   "name": "python3"
  },
  "language_info": {
   "codemirror_mode": {
    "name": "ipython",
    "version": 3
   },
   "file_extension": ".py",
   "mimetype": "text/x-python",
   "name": "python",
   "nbconvert_exporter": "python",
   "pygments_lexer": "ipython3",
   "version": "3.9.1"
  }
 },
 "nbformat": 4,
 "nbformat_minor": 4
}
